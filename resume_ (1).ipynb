{
  "nbformat": 4,
  "nbformat_minor": 0,
  "metadata": {
    "colab": {
      "provenance": []
    },
    "kernelspec": {
      "name": "python3",
      "display_name": "Python 3"
    },
    "language_info": {
      "name": "python"
    }
  },
  "cells": [
    {
      "cell_type": "code",
      "source": [
        "pip install python-docx"
      ],
      "metadata": {
        "colab": {
          "base_uri": "https://localhost:8080/"
        },
        "id": "fTZ8JgXwP40t",
        "outputId": "dc43540e-af3a-4bc3-c073-b38b7b8058f4"
      },
      "execution_count": null,
      "outputs": [
        {
          "output_type": "stream",
          "name": "stdout",
          "text": [
            "Looking in indexes: https://pypi.org/simple, https://us-python.pkg.dev/colab-wheels/public/simple/\n",
            "Collecting python-docx\n",
            "  Downloading python-docx-0.8.11.tar.gz (5.6 MB)\n",
            "\u001b[2K     \u001b[90m━━━━━━━━━━━━━━━━━━━━━━━━━━━━━━━━━━━━━━━━\u001b[0m \u001b[32m5.6/5.6 MB\u001b[0m \u001b[31m88.6 MB/s\u001b[0m eta \u001b[36m0:00:00\u001b[0m\n",
            "\u001b[?25h  Preparing metadata (setup.py) ... \u001b[?25l\u001b[?25hdone\n",
            "Requirement already satisfied: lxml>=2.3.2 in /usr/local/lib/python3.9/dist-packages (from python-docx) (4.9.2)\n",
            "Building wheels for collected packages: python-docx\n",
            "  Building wheel for python-docx (setup.py) ... \u001b[?25l\u001b[?25hdone\n",
            "  Created wheel for python-docx: filename=python_docx-0.8.11-py3-none-any.whl size=184505 sha256=112f5b841e3dac19bce536767b1b8e0eec67ec170cb17e01fd64549ebe64368b\n",
            "  Stored in directory: /root/.cache/pip/wheels/83/8b/7c/09ae60c42c7ba4ed2dddaf2b8b9186cb105255856d6ed3dba5\n",
            "Successfully built python-docx\n",
            "Installing collected packages: python-docx\n",
            "Successfully installed python-docx-0.8.11\n"
          ]
        }
      ]
    },
    {
      "cell_type": "code",
      "execution_count": null,
      "metadata": {
        "id": "8nEu3rqNOdaq"
      },
      "outputs": [],
      "source": [
        "# import libraries\n",
        "import pandas as pd\n",
        "import docx\n",
        "from docx import Document\n",
        "from docx.shared import Pt\n",
        "from docx.enum.style import WD_STYLE_TYPE\n",
        "from docx.enum.text import WD_ALIGN_PARAGRAPH\n"
      ]
    },
    {
      "cell_type": "markdown",
      "source": [
        "One popular Python library for generating CV resumes is Python-docx. This library allows you to create and format Word documents (.docx) programmatically, including creating a CV or resume template and filling in the relevant information. Here's an example of how you can use Python-docx to create a simple resume:\n"
      ],
      "metadata": {
        "id": "8L_aKP2pKPcl"
      }
    },
    {
      "cell_type": "code",
      "source": [
        "\n",
        "\n",
        "from docx import Document\n",
        "from docx.shared import Inches\n",
        "\n",
        "# create a new Word document\n",
        "doc = Document()\n",
        "\n",
        "# add a heading\n",
        "doc.add_heading('John Doe', 0)\n",
        "\n",
        "# add a section with a heading\n",
        "doc.add_heading('Summary', level=1)\n",
        "doc.add_paragraph('Experienced software engineer with a strong background in Python and machine learning.')\n",
        "\n",
        "# add a section with a table of skills\n",
        "doc.add_heading('Skills', level=1)\n",
        "skills_table = doc.add_table(rows=3, cols=2)\n",
        "skills_table.style = 'Table Grid'\n",
        "skills_table.cell(0, 0).text = 'Python'\n",
        "skills_table.cell(0, 1).text = 'Expert'\n",
        "skills_table.cell(1, 0).text = 'Machine Learning'\n",
        "skills_table.cell(1, 1).text = 'Intermediate'\n",
        "skills_table.cell(2, 0).text = 'Java'\n",
        "skills_table.cell(2, 1).text = 'Intermediate'\n",
        "\n",
        "# add a section with work experience\n",
        "doc.add_heading('Work Experience', level=1)\n",
        "p = doc.add_paragraph()\n",
        "company = p.add_run('ABC Company')\n",
        "company.bold = True\n",
        "p.add_run(' - Software Engineer')\n",
        "p.add_run('\\n2015 - present')\n",
        "doc.add_paragraph('Developed and maintained Python-based machine learning algorithms.')\n",
        "\n",
        "# add a section with education\n",
        "doc.add_heading('Education', level=1)\n",
        "p = doc.add_paragraph()\n",
        "p.add_run('Bachelor of Science in Computer Science, XYZ University\\n').italic = True\n",
        "p.add_run('2011 - 2015')\n",
        "\n",
        "# save the document\n",
        "doc.save('resume.docx')\n",
        "\n",
        "\n"
      ],
      "metadata": {
        "id": "Mk3qI1o4OeOI"
      },
      "execution_count": null,
      "outputs": []
    },
    {
      "cell_type": "markdown",
      "source": [
        "You can customize this example to suit your needs, such as adding more sections or changing the formatting. Python-docx provides a range of formatting options, such as font style and size, indentation, alignment, and bullet points, that you can use to make your CV look professional and visually appealing."
      ],
      "metadata": {
        "id": "_zzFQWleKJPe"
      }
    },
    {
      "cell_type": "code",
      "source": [],
      "metadata": {
        "id": "O2TOl82sOeRq"
      },
      "execution_count": null,
      "outputs": []
    },
    {
      "cell_type": "code",
      "source": [],
      "metadata": {
        "id": "sWNdW49AOeYJ"
      },
      "execution_count": null,
      "outputs": []
    }
  ]
}